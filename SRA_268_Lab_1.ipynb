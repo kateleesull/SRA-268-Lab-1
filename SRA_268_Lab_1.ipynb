{
  "nbformat": 4,
  "nbformat_minor": 0,
  "metadata": {
    "colab": {
      "name": "SRA 268 Lab 1",
      "provenance": [],
      "collapsed_sections": [],
      "authorship_tag": "ABX9TyMl5MgWlQp1mWF8amdc5gpJ",
      "include_colab_link": true
    },
    "kernelspec": {
      "name": "python3",
      "display_name": "Python 3"
    }
  },
  "cells": [
    {
      "cell_type": "markdown",
      "metadata": {
        "id": "view-in-github",
        "colab_type": "text"
      },
      "source": [
        "<a href=\"https://colab.research.google.com/github/kateleesull/SRA-268-Lab-1/blob/master/SRA_268_Lab_1.ipynb\" target=\"_parent\"><img src=\"https://colab.research.google.com/assets/colab-badge.svg\" alt=\"Open In Colab\"/></a>"
      ]
    },
    {
      "cell_type": "code",
      "metadata": {
        "id": "0imn1-6IJklM",
        "colab_type": "code",
        "colab": {}
      },
      "source": [
        ""
      ],
      "execution_count": 0,
      "outputs": []
    },
    {
      "cell_type": "markdown",
      "metadata": {
        "id": "gbWUjOdPS2Pk",
        "colab_type": "text"
      },
      "source": [
        "### Temperatures During Summer Months in State College, PA"
      ]
    },
    {
      "cell_type": "markdown",
      "metadata": {
        "id": "Neb_kQinUo3x",
        "colab_type": "text"
      },
      "source": [
        "### I am going to utilize the maximum temperature data from the past three summers in State College, PA, and compare and analyze them to determine whether maximum temperatures have been stable from Summer 2017 - Summer 2019 or if they have been varied in recent years. For this purpose, I will be using the data from June 20th - September 22nd. "
      ]
    },
    {
      "cell_type": "markdown",
      "metadata": {
        "id": "QMCYKnwuVnbM",
        "colab_type": "text"
      },
      "source": [
        "![Sketch](https://raw.githubusercontent.com/kateleesull/SRA-268-Lab-1/master/sra%20268%20lab%201.jpg)"
      ]
    },
    {
      "cell_type": "markdown",
      "metadata": {
        "id": "L3adGfakWQSQ",
        "colab_type": "text"
      },
      "source": [
        "### In conclusion, temperatures seem to jump around more in the summer of 2017, but they gradually grow more stable as years go by. The temperatures in the summer of 2019 also reach higher peaks than those in earlier summers. From this data, it appears that the maximum temperatures in the summertime in State College, PA do grow more stable throughout the past three years."
      ]
    }
  ]
}